{
  "nbformat": 4,
  "nbformat_minor": 0,
  "metadata": {
    "colab": {
      "name": "Resume_NER.ipynb",
      "provenance": [],
      "collapsed_sections": []
    },
    "kernelspec": {
      "name": "python3",
      "display_name": "Python 3"
    },
    "language_info": {
      "name": "python"
    }
  },
  "cells": [
    {
      "cell_type": "code",
      "execution_count": null,
      "metadata": {
        "id": "YxP1edLeAI6r"
      },
      "outputs": [],
      "source": [
        "import spacy\n",
        "import pickle\n",
        "import random"
      ]
    },
    {
      "cell_type": "code",
      "source": [
        "train_data = pickle.load(open('train_data.pkl', 'rb'))\n",
        "train_data[0]"
      ],
      "metadata": {
        "colab": {
          "base_uri": "https://localhost:8080/"
        },
        "id": "mzpD7oBMAZCx",
        "outputId": "7c0c3c44-cb58-4e36-be23-39e64c35af68"
      },
      "execution_count": null,
      "outputs": [
        {
          "output_type": "execute_result",
          "data": {
            "text/plain": [
              "('Govardhana K Senior Software Engineer  Bengaluru, Karnataka, Karnataka - Email me on Indeed: indeed.com/r/Govardhana-K/ b2de315d95905b68  Total IT experience 5 Years 6 Months Cloud Lending Solutions INC 4 Month • Salesforce Developer Oracle 5 Years 2 Month • Core Java Developer Languages Core Java, Go Lang Oracle PL-SQL programming, Sales Force Developer with APEX.  Designations & Promotions  Willing to relocate: Anywhere  WORK EXPERIENCE  Senior Software Engineer  Cloud Lending Solutions -  Bangalore, Karnataka -  January 2018 to Present  Present  Senior Consultant  Oracle -  Bangalore, Karnataka -  November 2016 to December 2017  Staff Consultant  Oracle -  Bangalore, Karnataka -  January 2014 to October 2016  Associate Consultant  Oracle -  Bangalore, Karnataka -  November 2012 to December 2013  EDUCATION  B.E in Computer Science Engineering  Adithya Institute of Technology -  Tamil Nadu  September 2008 to June 2012  https://www.indeed.com/r/Govardhana-K/b2de315d95905b68?isid=rex-download&ikw=download-top&co=IN https://www.indeed.com/r/Govardhana-K/b2de315d95905b68?isid=rex-download&ikw=download-top&co=IN   SKILLS  APEX. (Less than 1 year), Data Structures (3 years), FLEXCUBE (5 years), Oracle (5 years), Algorithms (3 years)  LINKS  https://www.linkedin.com/in/govardhana-k-61024944/  ADDITIONAL INFORMATION  Technical Proficiency:  Languages: Core Java, Go Lang, Data Structures & Algorithms, Oracle PL-SQL programming, Sales Force with APEX. Tools: RADTool, Jdeveloper, NetBeans, Eclipse, SQL developer, PL/SQL Developer, WinSCP, Putty Web Technologies: JavaScript, XML, HTML, Webservice  Operating Systems: Linux, Windows Version control system SVN & Git-Hub Databases: Oracle Middleware: Web logic, OC4J Product FLEXCUBE: Oracle FLEXCUBE Versions 10.x, 11.x and 12.x  https://www.linkedin.com/in/govardhana-k-61024944/',\n",
              " {'entities': [(1749, 1755, 'Companies worked at'),\n",
              "   (1696, 1702, 'Companies worked at'),\n",
              "   (1417, 1423, 'Companies worked at'),\n",
              "   (1356, 1793, 'Skills'),\n",
              "   (1209, 1215, 'Companies worked at'),\n",
              "   (1136, 1248, 'Skills'),\n",
              "   (928, 932, 'Graduation Year'),\n",
              "   (858, 889, 'College Name'),\n",
              "   (821, 856, 'Degree'),\n",
              "   (787, 791, 'Graduation Year'),\n",
              "   (744, 750, 'Companies worked at'),\n",
              "   (722, 742, 'Designation'),\n",
              "   (658, 664, 'Companies worked at'),\n",
              "   (640, 656, 'Designation'),\n",
              "   (574, 580, 'Companies worked at'),\n",
              "   (555, 573, 'Designation'),\n",
              "   (470, 493, 'Companies worked at'),\n",
              "   (444, 469, 'Designation'),\n",
              "   (308, 314, 'Companies worked at'),\n",
              "   (234, 240, 'Companies worked at'),\n",
              "   (175, 198, 'Companies worked at'),\n",
              "   (93, 137, 'Email Address'),\n",
              "   (39, 48, 'Location'),\n",
              "   (13, 38, 'Designation'),\n",
              "   (0, 12, 'Name')]})"
            ]
          },
          "metadata": {},
          "execution_count": 3
        }
      ]
    },
    {
      "cell_type": "code",
      "source": [
        "nlp = spacy.blank('en')\n",
        "def train_model(train_data):\n",
        "    if 'ner' not in nlp.pipe_names:\n",
        "        ner = nlp.create_pipe('ner')\n",
        "        nlp.add_pipe(ner, last = True)\n",
        "    \n",
        "    for _, annotation in train_data:\n",
        "        for ent in annotation['entities']:\n",
        "            ner.add_label(ent[2])\n",
        "            \n",
        "    \n",
        "    other_pipes = [pipe for pipe in nlp.pipe_names if pipe != 'ner']\n",
        "    with nlp.disable_pipes(*other_pipes):  # only train NER\n",
        "        optimizer = nlp.begin_training()\n",
        "        for itn in range(40):\n",
        "            print(\"Statring iteration \" + str(itn))\n",
        "            random.shuffle(train_data)\n",
        "            losses = {}\n",
        "            index = 0\n",
        "            for text, annotations in train_data:\n",
        "                try:\n",
        "                    nlp.update(\n",
        "                        [text],  # batch of texts\n",
        "                        [annotations],  # batch of annotations\n",
        "                        drop=0.3,  # dropout - make it harder to memorise data\n",
        "                        sgd=optimizer,  # callable to update weights\n",
        "                        losses=losses)\n",
        "                except Exception as e:\n",
        "                    pass\n",
        "                \n",
        "            print(losses)\n",
        "train_model(train_data)\n"
      ],
      "metadata": {
        "colab": {
          "base_uri": "https://localhost:8080/"
        },
        "id": "9K_YMzhzAbEY",
        "outputId": "5fb6e61f-6532-4d75-88e2-88a7777b8535"
      },
      "execution_count": null,
      "outputs": [
        {
          "output_type": "stream",
          "name": "stdout",
          "text": [
            "Statring iteration 0\n",
            "{'ner': 16119.504205658177}\n",
            "Statring iteration 1\n",
            "{'ner': 7934.732764052346}\n",
            "Statring iteration 2\n",
            "{'ner': 6409.24780310097}\n",
            "Statring iteration 3\n",
            "{'ner': 5987.009206701124}\n",
            "Statring iteration 4\n",
            "{'ner': 5565.881897753283}\n",
            "Statring iteration 5\n",
            "{'ner': 5924.813035188184}\n",
            "Statring iteration 6\n",
            "{'ner': 4965.869180879246}\n",
            "Statring iteration 7\n",
            "{'ner': 5184.717615826416}\n",
            "Statring iteration 8\n",
            "{'ner': 6504.120666066355}\n",
            "Statring iteration 9\n",
            "{'ner': 4473.608686435633}\n",
            "Statring iteration 10\n",
            "{'ner': 4635.919171383016}\n",
            "Statring iteration 11\n",
            "{'ner': 4471.827343251337}\n",
            "Statring iteration 12\n",
            "{'ner': 5311.997662261083}\n",
            "Statring iteration 13\n",
            "{'ner': 4235.1570192122945}\n",
            "Statring iteration 14\n",
            "{'ner': 5450.84463333558}\n",
            "Statring iteration 15\n",
            "{'ner': 4581.579941598937}\n",
            "Statring iteration 16\n",
            "{'ner': 5046.995550399182}\n",
            "Statring iteration 17\n",
            "{'ner': 4133.4989182225545}\n",
            "Statring iteration 18\n",
            "{'ner': 3956.2030204103057}\n",
            "Statring iteration 19\n",
            "{'ner': 3964.989724911914}\n",
            "Statring iteration 20\n",
            "{'ner': 4014.5299023180432}\n",
            "Statring iteration 21\n",
            "{'ner': 4243.433081536126}\n",
            "Statring iteration 22\n",
            "{'ner': 4130.23305780153}\n",
            "Statring iteration 23\n",
            "{'ner': 4075.425040771326}\n",
            "Statring iteration 24\n",
            "{'ner': 3859.83225400728}\n",
            "Statring iteration 25\n",
            "{'ner': 3151.7532478318008}\n",
            "Statring iteration 26\n",
            "{'ner': 3110.5899569564262}\n",
            "Statring iteration 27\n",
            "{'ner': 3182.03522341826}\n",
            "Statring iteration 28\n",
            "{'ner': 3241.9127527327714}\n",
            "Statring iteration 29\n",
            "{'ner': 3240.3068836245784}\n",
            "Statring iteration 30\n",
            "{'ner': 3074.706494493469}\n",
            "Statring iteration 31\n",
            "{'ner': 3658.732119056185}\n",
            "Statring iteration 32\n",
            "{'ner': 3010.0885632560226}\n",
            "Statring iteration 33\n",
            "{'ner': 3269.6537668912574}\n",
            "Statring iteration 34\n",
            "{'ner': 3078.013600164301}\n",
            "Statring iteration 35\n",
            "{'ner': 3278.81696756806}\n",
            "Statring iteration 36\n",
            "{'ner': 3294.5562673501663}\n",
            "Statring iteration 37\n",
            "{'ner': 3127.9446991155987}\n",
            "Statring iteration 38\n",
            "{'ner': 2770.707761316366}\n",
            "Statring iteration 39\n",
            "{'ner': 2745.3544787042815}\n"
          ]
        }
      ]
    },
    {
      "cell_type": "code",
      "source": [
        "nlp.to_disk('nlp_model')"
      ],
      "metadata": {
        "id": "tU5mBzb7B0I5"
      },
      "execution_count": null,
      "outputs": []
    },
    {
      "cell_type": "code",
      "source": [
        "nlp_model = spacy.load('nlp_model')"
      ],
      "metadata": {
        "id": "MaXBhN5gB95Z"
      },
      "execution_count": null,
      "outputs": []
    },
    {
      "cell_type": "code",
      "source": [
        "train_data[0][0]"
      ],
      "metadata": {
        "colab": {
          "base_uri": "https://localhost:8080/",
          "height": 140
        },
        "id": "Hcrt_McBCBcA",
        "outputId": "a7b4dca3-38dd-4b4a-e7a2-df4b88cd3b30"
      },
      "execution_count": null,
      "outputs": [
        {
          "output_type": "execute_result",
          "data": {
            "text/plain": [
              "'Ramakrishna Rao DevOps Consultant - Tech Mahindra Ltd  Bengaluru, Karnataka - Email me on Indeed: indeed.com/r/Ramakrishna- Rao/0b57f5f9d35b9e5c  An accomplished IT Professional with 15.2 years of Competent technical expertise in solution design, architecture, system analysis, components design, development and testing of client server, Intranet/ Internet, N-tier systems in Microsoft, Java and middleware projects at Development, Support, E2E and Transition, Transformation, migration Projects at Telecom (BSS and OSS), Networking, Finance, Content Management, Healthcare, Banking domains. Extensive experience in Object-Oriented design and development, agile, DevOps, Cloud architecture, middleware, enterprise application integrations. a) Offshore Professional Summary • Expertise in process, tools maturity assessment and provides the implementation / transformation roadmaps.  • Extensive experience in the design and implementation of Continuous Integration, Continuous Delivery, Continuous Testing, Continuous Deployment Pipelines and DevOps processes, best practices for Agile projects.  • Involved in Agile implementation using JIRA, Rally, HPE ALM/Octane across various customer as per SAFe/Scrum methodologies.  • Implementation experience in Continuous Integration/Delivery (CI/CD) pipeline using CA Clarity, CA Rally, JIRA, HPE ALM/Octane Jenkins, Maven, Git, Bitbukcet, Github, XebiaLabs XL Release, CA Release Automation/Automic for Code Build, repository and deployment and Automation.  • Proven expertise on cloud based solutions using PaaS platforms - Openshift with kubernetes, MS Azure (ARM templates), AWS services (EC2, ELB, IAM, S3, EFS, and EBS, CI-CD services - Code Commit, Build, Code Deploy, OpsWorks)  • Good understating and experience in Docker, Ansible, Chef, Puppet configuration tools  • Good experience in Java, Microsoft, CRM, Java Script, shell, PowerShell, Groovy, Python script  • Involved in development, support activities in projects using tools such as Java/ J2EE, MS Technologies (VB, ASP, VStudio.Net, VB.Net, ASP.Net, C#, SqlServer, Team Foundation Server (TFS), Sharepoint), Oracle, SQL Server, automated configuration and build, integration SCM tools (Git, GitHub, SVN, Bitbucket, Crucible, Maven, SonarQube, NANT, FxCop, NUNIT, CCNet, )  • Good knowledge and integration experiences in testing tools on HPE ALM/QC/Octane, ETL Validator, CA SV, CA TDM and Selenium with CI-CD pipeline.  • Good understanding and experienced in ITSM tools - BMC- Remedy, Servicenow integrations  • Good experience in CI-CD implementation with IBM stack, HP stack, Atlassian stack using IBM CLM, RTC, uRelease and uDeploy, and Atlassian Products (JIRA, JIRA Agile, Crowd, Bitbucket/Stash, Crucible, Confluence) in DevOps solutions implementation.  https://www.indeed.com/r/Ramakrishna-Rao/0b57f5f9d35b9e5c?isid=rex-download&ikw=download-top&co=IN https://www.indeed.com/r/Ramakrishna-Rao/0b57f5f9d35b9e5c?isid=rex-download&ikw=download-top&co=IN   • Have proven leadership and strong interpersonal and communication skills in dealing with people with diverse backgrounds.  b) Onsite Professional Summary • Good experience in DevOps E2E solution design in planning, source code management, build and deployment automations using JIRA, Jenkins, maven, git/Bitbucket, XLRelease and XLDeploy, Ansible for VHA, Scotiabank, Volkswagen, NetApp, Optus, Cenveo accounts. • Developed POCs and successfully onboarded 100+ projects into CD platform as part of the DevOps transformation. • Involved in Transitions/Takeover of varies complex applications for BT, ATT, AIRBUS clients and made the applications as BAU. • Good at client communication, customer management and giving presentations to clients. • Good at managing the deliveries at onshore and liaising with offshore team. • Involved in Application Technical Support, Requirement gathering and giving solution designs to clients. • Involved in ASG (Application Support Group) activities at onshore. • Good experience in conducting tools, DevOps process trainings as part of DevOps enablement programs.  WORK EXPERIENCE  DevOps Consultant -  Tech Mahindra Ltd -  March 2018 to Present  15 Years ] Band-Sub band/ Designation U4 / DevOps Consultant -  Tech Mahindra Ltd -  April 2005 to Present  Experience  Sr. Software Engineer Consultant (Client of Infosys Technologies)  Data Comp Services -  August 2004 to April 2005  Duration AUGUST/2004--APRIL/2005  Programmer Analyst  Infoland Technologies -  February 2003 to August 2004    EDUCATION  Master of Science in Information Technology and Management  Periyar University  June 2001  P.G.D.C.A in Computer Applications  Nagarjuna University  June 1998  B.Sc. in M.P.C  Andhra University  June 1997  SKILLS  .Net (Less than 1 year), .Net 4.5 (Less than 1 year), Amazon Elastic Block Storage (Less than 1 year), Amazon Elastic Compute Cloud (Less than 1 year), ASP (Less than 1 year)  ADDITIONAL INFORMATION  III. Skills  Primary Skill category Java/J2EE, .Net 4.5, MS.Net Tech.[ASP.Net, C#, VB.Net, Web services, WCF, EF, SQLServer, VS2012], Oracle 11g, DevOps process &amp;implementation, Agile planning, JIRA, Bitbucket, Crucible, Confluence, Crowd and Open Source Tools (Jenkins, Git, GitHub, SVN, Maven, SonarQube), MS TFS2013 with InRelease, XLRelease, XLDeploy, AWS services - ( EC2, ELB, IAM, S3, EFS, and EBS, CI-CD services - Code Commit, Build, Code Deploy, OpsWorks), Ansible playbooks, Servicenow  Secondary Skill category VB, ASP, Config Tools (Subversion, NANT, FxCop, NUNIT, CCNet), Design Tools (BorelandToGether2007, Visio2010), Project Management (Microsoft Office Project 2010)  Domain Skill Telecom (CRM, BSS, OSS), Content Management and Healthcare, Finance and Banking  IV. Trainings/Certifications  ➢ Introduction to Agile Methodology: conducted by Tech Mahindra Ltd.: Nov 2006 ➢ PMP Training: conducted by Tech Mahindra Ltd.: Aug 2011. ➢ ITIL Training: conducted by Tech Mahindra Ltd.: Jun 2013. ➢ LEAN SIX SIGMA YELLOW BELT training: conducted by Tech Mahindra Ltd.: April 2014. ➢ Scrum Maser Certified (SMC) Jul 2015 from ScrumStudy.'"
            ],
            "application/vnd.google.colaboratory.intrinsic+json": {
              "type": "string"
            }
          },
          "metadata": {},
          "execution_count": 17
        }
      ]
    },
    {
      "cell_type": "code",
      "source": [
        "doc = nlp_model(train_data[1][0])\n",
        "for ent in doc.ents:\n",
        "    print(f'{ent.label_.upper():{30}}- {ent.text}')"
      ],
      "metadata": {
        "colab": {
          "base_uri": "https://localhost:8080/"
        },
        "id": "_7q9voaSCC6Q",
        "outputId": "6564fcdc-63b7-425d-9713-c77cec671b4d"
      },
      "execution_count": null,
      "outputs": [
        {
          "output_type": "stream",
          "name": "stdout",
          "text": [
            "NAME                          - Sarfaraz Ahmad\n",
            "DESIGNATION                   - Associate network engineer\n",
            "LOCATION                      - Muzaffarpur\n",
            "DESIGNATION                   - Associate network engineer\n",
            "DEGREE                        - Bachelor of Commerce in Commerce\n",
            "COLLEGE NAME                  - R.D.S COLLEGE\n",
            "GRADUATION YEAR               - 2013\n",
            "DEGREE                        - H.S.C\n",
            "COLLEGE NAME                  - Dr. R.M.L.S COLLEGE\n",
            "SKILLS                        - BGP (2 years), EIGRP. (2 years), OSPF (2 years), security (2 years), vlan (2 years)\n"
          ]
        }
      ]
    },
    {
      "cell_type": "code",
      "source": [
        "!pip install PyMuPDF"
      ],
      "metadata": {
        "colab": {
          "base_uri": "https://localhost:8080/"
        },
        "id": "d-jByRWHCGSA",
        "outputId": "2cf738fa-9af9-4e1f-b855-7b677cba3fa3"
      },
      "execution_count": null,
      "outputs": [
        {
          "output_type": "stream",
          "name": "stdout",
          "text": [
            "Collecting PyMuPDF\n",
            "  Downloading PyMuPDF-1.19.6-cp37-cp37m-manylinux_2_17_x86_64.manylinux2014_x86_64.whl (8.8 MB)\n",
            "\u001b[K     |████████████████████████████████| 8.8 MB 16.1 MB/s \n",
            "\u001b[?25hInstalling collected packages: PyMuPDF\n",
            "Successfully installed PyMuPDF-1.19.6\n"
          ]
        }
      ]
    },
    {
      "cell_type": "code",
      "source": [
        "import sys, fitz\n",
        "fname = '/content/YUG_SHAH.pdf'\n",
        "doc = fitz.open(fname)\n",
        "text = \"\"\n",
        "for page in doc:\n",
        "    text = text + str(page.get_text())\n",
        "    tx = \" \".join(text.split('\\n'))\n",
        "\n",
        "doc = nlp_model(tx)\n",
        "for ent in doc.ents:\n",
        "    print(f'{ent.label_.upper():{30}}- {ent.text}')"
      ],
      "metadata": {
        "id": "5ZsJrpKlCInJ",
        "colab": {
          "base_uri": "https://localhost:8080/"
        },
        "outputId": "7707b65d-bc86-46a8-847f-f5e6d2b9d8a4"
      },
      "execution_count": null,
      "outputs": [
        {
          "output_type": "stream",
          "name": "stdout",
          "text": [
            "NAME                          - Yug Shah\n",
            "COLLEGE NAME                  - Charotar University of Science and Technology\n",
            "DEGREE                        - B.Tech\n",
            "COLLEGE NAME                  - (CE): CGPA: 8.91\n",
            "DEGREE                        - Backend\n",
            "SKILLS                        - Languages: C, HTML, CSS,  C++, python, JavaScript, PHP, NodeJS, MongoDB.  Tools and Technology: Postman, VS Code.  Technical Proficiency: Data Structures and Algorithm,Web development.  Soft Skill: Problem Solving, Work ethic, Decision Making, Flexible.\n"
          ]
        }
      ]
    },
    {
      "cell_type": "code",
      "source": [
        ""
      ],
      "metadata": {
        "id": "NgeE4TFUz7Eu"
      },
      "execution_count": null,
      "outputs": []
    }
  ]
}