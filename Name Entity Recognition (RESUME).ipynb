{
  "nbformat": 4,
  "nbformat_minor": 0,
  "metadata": {
    "colab": {
      "name": "Resume_NER.ipynb",
      "provenance": [],
      "collapsed_sections": []
    },
    "kernelspec": {
      "name": "python3",
      "display_name": "Python 3"
    },
    "language_info": {
      "name": "python"
    }
  },
  "cells": [
    {
      "cell_type": "code",
      "execution_count": 1,
      "metadata": {
        "id": "YxP1edLeAI6r"
      },
      "outputs": [],
      "source": [
        "import spacy\n",
        "import pickle\n",
        "import random"
      ]
    },
    {
      "cell_type": "code",
      "source": [
        "train_data = pickle.load(open('train_data.pkl', 'rb'))\n",
        "train_data[0]"
      ],
      "metadata": {
        "colab": {
          "base_uri": "https://localhost:8080/"
        },
        "id": "mzpD7oBMAZCx",
        "outputId": "bbb4965e-e52c-4bdb-f984-e431c386c33b"
      },
      "execution_count": 2,
      "outputs": [
        {
          "output_type": "execute_result",
          "data": {
            "text/plain": [
              "('Govardhana K Senior Software Engineer  Bengaluru, Karnataka, Karnataka - Email me on Indeed: indeed.com/r/Govardhana-K/ b2de315d95905b68  Total IT experience 5 Years 6 Months Cloud Lending Solutions INC 4 Month • Salesforce Developer Oracle 5 Years 2 Month • Core Java Developer Languages Core Java, Go Lang Oracle PL-SQL programming, Sales Force Developer with APEX.  Designations & Promotions  Willing to relocate: Anywhere  WORK EXPERIENCE  Senior Software Engineer  Cloud Lending Solutions -  Bangalore, Karnataka -  January 2018 to Present  Present  Senior Consultant  Oracle -  Bangalore, Karnataka -  November 2016 to December 2017  Staff Consultant  Oracle -  Bangalore, Karnataka -  January 2014 to October 2016  Associate Consultant  Oracle -  Bangalore, Karnataka -  November 2012 to December 2013  EDUCATION  B.E in Computer Science Engineering  Adithya Institute of Technology -  Tamil Nadu  September 2008 to June 2012  https://www.indeed.com/r/Govardhana-K/b2de315d95905b68?isid=rex-download&ikw=download-top&co=IN https://www.indeed.com/r/Govardhana-K/b2de315d95905b68?isid=rex-download&ikw=download-top&co=IN   SKILLS  APEX. (Less than 1 year), Data Structures (3 years), FLEXCUBE (5 years), Oracle (5 years), Algorithms (3 years)  LINKS  https://www.linkedin.com/in/govardhana-k-61024944/  ADDITIONAL INFORMATION  Technical Proficiency:  Languages: Core Java, Go Lang, Data Structures & Algorithms, Oracle PL-SQL programming, Sales Force with APEX. Tools: RADTool, Jdeveloper, NetBeans, Eclipse, SQL developer, PL/SQL Developer, WinSCP, Putty Web Technologies: JavaScript, XML, HTML, Webservice  Operating Systems: Linux, Windows Version control system SVN & Git-Hub Databases: Oracle Middleware: Web logic, OC4J Product FLEXCUBE: Oracle FLEXCUBE Versions 10.x, 11.x and 12.x  https://www.linkedin.com/in/govardhana-k-61024944/',\n",
              " {'entities': [(1749, 1755, 'Companies worked at'),\n",
              "   (1696, 1702, 'Companies worked at'),\n",
              "   (1417, 1423, 'Companies worked at'),\n",
              "   (1356, 1793, 'Skills'),\n",
              "   (1209, 1215, 'Companies worked at'),\n",
              "   (1136, 1248, 'Skills'),\n",
              "   (928, 932, 'Graduation Year'),\n",
              "   (858, 889, 'College Name'),\n",
              "   (821, 856, 'Degree'),\n",
              "   (787, 791, 'Graduation Year'),\n",
              "   (744, 750, 'Companies worked at'),\n",
              "   (722, 742, 'Designation'),\n",
              "   (658, 664, 'Companies worked at'),\n",
              "   (640, 656, 'Designation'),\n",
              "   (574, 580, 'Companies worked at'),\n",
              "   (555, 573, 'Designation'),\n",
              "   (470, 493, 'Companies worked at'),\n",
              "   (444, 469, 'Designation'),\n",
              "   (308, 314, 'Companies worked at'),\n",
              "   (234, 240, 'Companies worked at'),\n",
              "   (175, 198, 'Companies worked at'),\n",
              "   (93, 137, 'Email Address'),\n",
              "   (39, 48, 'Location'),\n",
              "   (13, 38, 'Designation'),\n",
              "   (0, 12, 'Name')]})"
            ]
          },
          "metadata": {},
          "execution_count": 2
        }
      ]
    },
    {
      "cell_type": "code",
      "source": [
        "nlp = spacy.blank('en')\n",
        "def train_model(train_data):\n",
        "    if 'ner' not in nlp.pipe_names:\n",
        "        ner = nlp.create_pipe('ner')\n",
        "        nlp.add_pipe(ner, last = True)\n",
        "    \n",
        "    for _, annotation in train_data:\n",
        "        for ent in annotation['entities']:\n",
        "            ner.add_label(ent[2])\n",
        "            \n",
        "    \n",
        "    other_pipes = [pipe for pipe in nlp.pipe_names if pipe != 'ner']\n",
        "    with nlp.disable_pipes(*other_pipes):  # only train NER\n",
        "        optimizer = nlp.begin_training()\n",
        "        for itn in range(30):\n",
        "            print(\"Statring iteration \" + str(itn))\n",
        "            random.shuffle(train_data)\n",
        "            losses = {}\n",
        "            index = 0\n",
        "            for text, annotations in train_data:\n",
        "                try:\n",
        "                    nlp.update(\n",
        "                        [text],  # batch of texts\n",
        "                        [annotations],  # batch of annotations\n",
        "                        drop=0.3,  # dropout - make it harder to memorise data\n",
        "                        sgd=optimizer,  # callable to update weights\n",
        "                        losses=losses)\n",
        "                except Exception as e:\n",
        "                    pass\n",
        "                \n",
        "            print(losses)\n",
        "train_model(train_data)\n"
      ],
      "metadata": {
        "colab": {
          "base_uri": "https://localhost:8080/"
        },
        "id": "9K_YMzhzAbEY",
        "outputId": "841bda0c-5e7e-4650-b1ff-dbf7ab815dc8"
      },
      "execution_count": 4,
      "outputs": [
        {
          "output_type": "stream",
          "name": "stdout",
          "text": [
            "Statring iteration 0\n",
            "{'ner': 14668.314786273862}\n",
            "Statring iteration 1\n",
            "{'ner': 9021.720279664081}\n",
            "Statring iteration 2\n",
            "{'ner': 9756.301409204127}\n",
            "Statring iteration 3\n",
            "{'ner': 9089.337831271565}\n",
            "Statring iteration 4\n",
            "{'ner': 10554.925395640266}\n",
            "Statring iteration 5\n",
            "{'ner': 8432.655795993194}\n",
            "Statring iteration 6\n",
            "{'ner': 4909.896161646301}\n",
            "Statring iteration 7\n",
            "{'ner': 6745.739407675662}\n",
            "Statring iteration 8\n",
            "{'ner': 6345.436002246986}\n",
            "Statring iteration 9\n",
            "{'ner': 5523.75628814981}\n",
            "Statring iteration 10\n",
            "{'ner': 5621.067343463809}\n",
            "Statring iteration 11\n",
            "{'ner': 5622.399231316807}\n",
            "Statring iteration 12\n",
            "{'ner': 5171.668429590917}\n",
            "Statring iteration 13\n",
            "{'ner': 5590.811461698116}\n",
            "Statring iteration 14\n",
            "{'ner': 4839.9768587780745}\n",
            "Statring iteration 15\n",
            "{'ner': 4327.787015316546}\n",
            "Statring iteration 16\n",
            "{'ner': 4127.159141958809}\n",
            "Statring iteration 17\n",
            "{'ner': 4212.069171759389}\n",
            "Statring iteration 18\n",
            "{'ner': 4357.091394156269}\n",
            "Statring iteration 19\n",
            "{'ner': 4574.880765458737}\n",
            "Statring iteration 20\n",
            "{'ner': 4045.8909956523785}\n",
            "Statring iteration 21\n",
            "{'ner': 3587.0979370869813}\n",
            "Statring iteration 22\n",
            "{'ner': 4350.620466787721}\n",
            "Statring iteration 23\n",
            "{'ner': 3618.5526639013106}\n",
            "Statring iteration 24\n",
            "{'ner': 3107.964325911696}\n",
            "Statring iteration 25\n",
            "{'ner': 3670.367844131721}\n",
            "Statring iteration 26\n",
            "{'ner': 3712.038511956202}\n",
            "Statring iteration 27\n",
            "{'ner': 3629.998879024841}\n",
            "Statring iteration 28\n",
            "{'ner': 3275.0410973122207}\n",
            "Statring iteration 29\n",
            "{'ner': 3270.59399383302}\n"
          ]
        }
      ]
    },
    {
      "cell_type": "code",
      "source": [
        "nlp.to_disk('nlp_model')"
      ],
      "metadata": {
        "id": "tU5mBzb7B0I5"
      },
      "execution_count": 5,
      "outputs": []
    },
    {
      "cell_type": "code",
      "source": [
        "nlp_model = spacy.load('nlp_model')"
      ],
      "metadata": {
        "id": "MaXBhN5gB95Z"
      },
      "execution_count": 6,
      "outputs": []
    },
    {
      "cell_type": "code",
      "source": [
        "train_data[0][0]"
      ],
      "metadata": {
        "colab": {
          "base_uri": "https://localhost:8080/",
          "height": 70
        },
        "id": "Hcrt_McBCBcA",
        "outputId": "eb7c3139-81a5-45af-f58c-7b50f4a2e87a"
      },
      "execution_count": null,
      "outputs": [
        {
          "output_type": "execute_result",
          "data": {
            "text/plain": [
              "'Krishna Prasad Patna, Bihar - Email me on Indeed: indeed.com/r/Krishna-Prasad/b8d7a1135a44a37a  Willing to relocate to: Patna, Bihar - Danapur, Bihar  WORK EXPERIENCE  Data Entry Operator  Microsoft  EDUCATION  BSc in Computer Science  Magadh university -  Patna, Bihar  https://www.indeed.com/r/Krishna-Prasad/b8d7a1135a44a37a?isid=rex-download&ikw=download-top&co=IN'"
            ],
            "application/vnd.google.colaboratory.intrinsic+json": {
              "type": "string"
            }
          },
          "metadata": {},
          "execution_count": 17
        }
      ]
    },
    {
      "cell_type": "code",
      "source": [
        "doc = nlp_model(train_data[10][0])\n",
        "for ent in doc.ents:\n",
        "    print(f'{ent.label_.upper():{30}}- {ent.text}')"
      ],
      "metadata": {
        "colab": {
          "base_uri": "https://localhost:8080/"
        },
        "id": "_7q9voaSCC6Q",
        "outputId": "45c686db-9a78-44eb-e59a-43f0748bfbfe"
      },
      "execution_count": 7,
      "outputs": [
        {
          "output_type": "stream",
          "name": "stdout",
          "text": [
            "NAME                          - Anil Kumar\n",
            "DESIGNATION                   - Microsoft Azure (Basic Management)\n",
            "LOCATION                      - Delhi\n",
            "EMAIL ADDRESS                 - indeed.com/r/Anil-Kumar/96983a9dd7222ae5\n",
            "DESIGNATION                   - Microsoft Azure (Basic Management)\n",
            "DESIGNATION                   - Microsoft Azure (Basic Management)\n",
            "SKILLS                        - DATA BACKUP (1 year), EXCHANGE (1 year), LAN (1 year), MAINTENANCE (1 year), SAP (1 year)\n",
            "SKILLS                        - Server Management, Basic Web content management by Joomla or WordPress, Desktop/Notebook management, IT consultancy, Data management, Software management, Network management (Active/Passive devices), Vendor development.  PROFESSIONAL SUUMARY:  13.7 years IT experience in implementation of LAN, WAN, MPLS, Server installation and maintenance, EPABX with VOIP function, Assembling of computers, maintenance and System Administration of Pentium pro, Pentium III, Pentium 4 and Servers, Software, Hardware and Network management at different organization.  1. TotipotentSC Scientific Product Pvt. Ltd. Gurgoan (Cesca Therapeutics Inc. US): - Working as Assistant Manager-IT from 10th September 2011 to present with all IT job responsibilities include IT management, vendor development, vendor management, solutions, IT asset purchasing, backup of all servers, SAP database server backup in NAS with Matrix and NEC Topaz EPABX management.  Spiceworks:- Spiceworks ticketing software management tool implementation for All systems tickets management.  Cyberoam CR50ia:- Implementation did with Secure VPN Tunnel from Udyog Vihar office to Fortis Stem Cell lab and implement user based security policy like TCP and IP traffic, remote user's secured login, Firewall and all other policies implementation.  TotipotentRX Cell Therapy Pvt. Ltd.:- Lab setup in Fortis Gurgaon with Airtel Lease Line 1 MB\n",
            "LOCATION                      - Delhi\n",
            "LOCATION                      - Delhi\n",
            "LOCATION                      - Delhi\n"
          ]
        }
      ]
    },
    {
      "cell_type": "code",
      "source": [
        "!pip install PyMuPDF"
      ],
      "metadata": {
        "colab": {
          "base_uri": "https://localhost:8080/"
        },
        "id": "d-jByRWHCGSA",
        "outputId": "65c360a5-d25e-4aa6-fabd-13eb1d116440"
      },
      "execution_count": 8,
      "outputs": [
        {
          "output_type": "stream",
          "name": "stdout",
          "text": [
            "Collecting PyMuPDF\n",
            "  Downloading PyMuPDF-1.19.6-cp37-cp37m-manylinux_2_17_x86_64.manylinux2014_x86_64.whl (8.8 MB)\n",
            "\u001b[K     |████████████████████████████████| 8.8 MB 5.0 MB/s \n",
            "\u001b[?25hInstalling collected packages: PyMuPDF\n",
            "Successfully installed PyMuPDF-1.19.6\n"
          ]
        }
      ]
    },
    {
      "cell_type": "code",
      "source": [
        "import sys, fitz\n",
        "fname = '/content/test1.pdf'\n",
        "doc = fitz.open(fname)\n",
        "text = \"\"\n",
        "for page in doc:\n",
        "    text = text + str(page.get_text())\n",
        "    tx = \" \".join(text.split('\\n'))\n",
        "\n",
        "doc = nlp_model(tx)\n",
        "label=[]\n",
        "text = []\n",
        "for ent in doc.ents:\n",
        "    label.append(ent.label_.upper())\n",
        "    text.append(ent.text)\n",
        "    print(f'{ent.label_.upper():{30}}- {ent.text}')"
      ],
      "metadata": {
        "id": "5ZsJrpKlCInJ",
        "colab": {
          "base_uri": "https://localhost:8080/"
        },
        "outputId": "a67ebead-7ab0-4d43-ed70-2bd71b1115c3"
      },
      "execution_count": 9,
      "outputs": [
        {
          "output_type": "stream",
          "name": "stdout",
          "text": [
            "NAME                          - Bhrugu Sharma\n",
            "LOCATION                      - M-63\n",
            "COLLEGE NAME                  - Charotar University of Science and Technology\n",
            "DEGREE                        - B.E. iN COMPUTER ENGiNEERiNG (9.3 CGPA)\n",
            "GRADUATION YEAR               - 2019\n"
          ]
        }
      ]
    },
    {
      "cell_type": "code",
      "source": [
        "fname = '/content/YUG_SHAH.pdf'\n",
        "doc = fitz.open(fname)\n",
        "text = \"\"\n",
        "for page in doc:\n",
        "    text = text + str(page.get_text())\n",
        "    tx = \" \".join(text.split('\\n'))\n",
        "\n",
        "doc = nlp_model(tx)\n",
        "label=[]\n",
        "text = []\n",
        "for ent in doc.ents:\n",
        "    label.append(ent.label_.upper())\n",
        "    text.append(ent.text)\n",
        "    print(f'{ent.label_.upper():{30}}- {ent.text}')"
      ],
      "metadata": {
        "colab": {
          "base_uri": "https://localhost:8080/"
        },
        "id": "jdKOpOgHBMj6",
        "outputId": "b9db609e-efde-456a-f6d6-55bf74dd9c1f"
      },
      "execution_count": 12,
      "outputs": [
        {
          "output_type": "stream",
          "name": "stdout",
          "text": [
            "NAME                          - Yug Shah\n",
            "LOCATION                      - Linkedln\n",
            "COLLEGE NAME                  - Charotar University of Science and Technology\n",
            "COLLEGE NAME                  - Gujarat, India  B.Tech\n",
            "GRADUATION YEAR               - 2019\n",
            "SKILLS                        - Languages: C, HTML, CSS,  C++, python, JavaScript, PHP, NodeJS, MongoDB.  Tools and Technology: Postman, VS Code.\n"
          ]
        }
      ]
    },
    {
      "cell_type": "code",
      "source": [
        "for x in range(len(text)):\n",
        "    print(text[x])"
      ],
      "metadata": {
        "colab": {
          "base_uri": "https://localhost:8080/"
        },
        "id": "TedyXgQV8EXg",
        "outputId": "0b3270e5-fd9d-4be2-d2d6-165a681e16c4"
      },
      "execution_count": null,
      "outputs": [
        {
          "output_type": "stream",
          "name": "stdout",
          "text": [
            "Yug Shah\n",
            "Charotar University of Science and Technology\n",
            "B.Tech\n",
            "(CE):\n",
            "2019\n",
            "2017\n",
            "Backend\n",
            "Languages: C, HTML, CSS,  C++, python, JavaScript, PHP, NodeJS, MongoDB.  Tools and Technology: Postman, VS Code.  Technical Proficiency: Data Structures and Algorithm,Web development.  Soft Skill: Problem Solving, Work ethic, Decision Making, Flexible.\n"
          ]
        }
      ]
    },
    {
      "cell_type": "code",
      "source": [
        ""
      ],
      "metadata": {
        "id": "NgeE4TFUz7Eu"
      },
      "execution_count": null,
      "outputs": []
    },
    {
      "cell_type": "code",
      "source": [
        "import csv\n",
        "\t\n",
        "rows=[]\t\n",
        "rows.append(text)\n",
        "\t\n",
        "filename = \"output.csv\"\n",
        "\t\n",
        "with open(filename, 'w') as csvfile:\n",
        "\n",
        "\tcsvwriter = csv.writer(csvfile)\n",
        "\t\t\n",
        "\tcsvwriter.writerow(label)\n",
        "\n",
        "\tcsvwriter.writerows(rows)"
      ],
      "metadata": {
        "id": "T9Sno7-n6kJs"
      },
      "execution_count": 11,
      "outputs": []
    },
    {
      "cell_type": "code",
      "source": [
        ""
      ],
      "metadata": {
        "colab": {
          "base_uri": "https://localhost:8080/"
        },
        "id": "IIk4_lBLBafH",
        "outputId": "9a4b8a6f-7072-4d22-859a-ef820a1241b0"
      },
      "execution_count": null,
      "outputs": [
        {
          "output_type": "stream",
          "name": "stdout",
          "text": [
            "['Bhrugu Sharma', 'Charotar University of Science and Technology (CHARUSAT) Changa, Anand', 'B.E. iN COMPUTER ENGiNEERiNG (9.3 CGPA)', 'Motorola Solutions Changa', 'Solutions.)', '2021', 'Back‑end Express, Django, REST API, Mongo.db, MYSql', '2021', '2021']\n"
          ]
        }
      ]
    }
  ]
}