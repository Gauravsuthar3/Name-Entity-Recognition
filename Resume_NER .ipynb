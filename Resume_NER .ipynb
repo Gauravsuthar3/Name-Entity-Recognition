{
  "nbformat": 4,
  "nbformat_minor": 0,
  "metadata": {
    "colab": {
      "name": "Resume_NER.ipynb",
      "provenance": [],
      "collapsed_sections": []
    },
    "kernelspec": {
      "name": "python3",
      "display_name": "Python 3"
    },
    "language_info": {
      "name": "python"
    }
  },
  "cells": [
    {
      "cell_type": "code",
      "source": [
        "!pip install PyMuPDF"
      ],
      "metadata": {
        "id": "gxf3YJnhILsV"
      },
      "execution_count": null,
      "outputs": []
    },
    {
      "cell_type": "code",
      "execution_count": 1,
      "metadata": {
        "id": "YxP1edLeAI6r"
      },
      "outputs": [],
      "source": [
        "import spacy\n",
        "import pickle\n",
        "import random\n",
        "import sys, fitz\n",
        "import csv"
      ]
    },
    {
      "cell_type": "code",
      "source": [
        "train_data = pickle.load(open('train_data.pkl', 'rb'))\n",
        "train_data[0]"
      ],
      "metadata": {
        "id": "mzpD7oBMAZCx"
      },
      "execution_count": null,
      "outputs": []
    },
    {
      "cell_type": "code",
      "source": [
        "nlp = spacy.blank('en')\n",
        "def train_model(train_data):\n",
        "    if 'ner' not in nlp.pipe_names:\n",
        "        ner = nlp.create_pipe('ner')\n",
        "        nlp.add_pipe(ner, last = True)\n",
        "    \n",
        "    for _, annotation in train_data:\n",
        "        for ent in annotation['entities']:\n",
        "            ner.add_label(ent[2])\n",
        "            \n",
        "    \n",
        "    other_pipes = [pipe for pipe in nlp.pipe_names if pipe != 'ner']\n",
        "    with nlp.disable_pipes(*other_pipes):  # only train NER\n",
        "        optimizer = nlp.begin_training()\n",
        "        for itn in range(30):\n",
        "            print(\"Statring iteration \" + str(itn))\n",
        "            random.shuffle(train_data)\n",
        "            losses = {}\n",
        "            index = 0\n",
        "            for text, annotations in train_data:\n",
        "                try:\n",
        "                    nlp.update(\n",
        "                        [text],  # batch of texts\n",
        "                        [annotations],  # batch of annotations\n",
        "                        drop=0.3,  # dropout - make it harder to memorise data\n",
        "                        sgd=optimizer,  # callable to update weights\n",
        "                        losses=losses)\n",
        "                except Exception as e:\n",
        "                    pass\n",
        "                \n",
        "            print(losses)\n",
        "train_model(train_data)\n"
      ],
      "metadata": {
        "id": "9K_YMzhzAbEY"
      },
      "execution_count": null,
      "outputs": []
    },
    {
      "cell_type": "code",
      "source": [
        "nlp.to_disk('nlp_model')"
      ],
      "metadata": {
        "id": "tU5mBzb7B0I5"
      },
      "execution_count": 5,
      "outputs": []
    },
    {
      "cell_type": "code",
      "source": [
        "nlp_model = spacy.load('nlp_model')"
      ],
      "metadata": {
        "id": "MaXBhN5gB95Z"
      },
      "execution_count": 6,
      "outputs": []
    },
    {
      "cell_type": "code",
      "source": [
        "train_data[0][0]"
      ],
      "metadata": {
        "id": "Hcrt_McBCBcA"
      },
      "execution_count": null,
      "outputs": []
    },
    {
      "cell_type": "code",
      "source": [
        "doc = nlp_model(train_data[10][0])\n",
        "for ent in doc.ents:\n",
        "    print(f'{ent.label_.upper():{30}}- {ent.text}')"
      ],
      "metadata": {
        "id": "_7q9voaSCC6Q"
      },
      "execution_count": null,
      "outputs": []
    },
    {
      "cell_type": "code",
      "source": [
        "import sys, fitz\n",
        "fname = '/content/test1.pdf'\n",
        "doc = fitz.open(fname)\n",
        "text = \"\"\n",
        "for page in doc:\n",
        "    text = text + str(page.get_text())\n",
        "    tx = \" \".join(text.split('\\n'))\n",
        "\n",
        "doc = nlp_model(tx)\n",
        "label=[]\n",
        "text = []\n",
        "for ent in doc.ents:\n",
        "    label.append(ent.label_.upper())\n",
        "    text.append(ent.text)\n",
        "    print(f'{ent.label_.upper():{30}}- {ent.text}')"
      ],
      "metadata": {
        "id": "5ZsJrpKlCInJ"
      },
      "execution_count": null,
      "outputs": []
    },
    {
      "cell_type": "code",
      "source": [
        "rows=[]\t\n",
        "rows.append(text)\n",
        "\t\n",
        "filename = \"output.csv\"\n",
        "\t\n",
        "with open(filename, 'w') as csvfile:\n",
        "\n",
        "\tcsvwriter = csv.writer(csvfile)\n",
        "\t\t\n",
        "\tcsvwriter.writerow(label)\n",
        "\n",
        "\tcsvwriter.writerows(rows)"
      ],
      "metadata": {
        "id": "T9Sno7-n6kJs"
      },
      "execution_count": 11,
      "outputs": []
    }
  ]
}